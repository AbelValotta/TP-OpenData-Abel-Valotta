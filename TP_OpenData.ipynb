{
  "nbformat": 4,
  "nbformat_minor": 0,
  "metadata": {
    "colab": {
      "name": "TP OpenData",
      "provenance": []
    },
    "kernelspec": {
      "name": "python3",
      "display_name": "Python 3"
    },
    "language_info": {
      "name": "python"
    }
  },
  "cells": [
    {
      "cell_type": "code",
      "metadata": {
        "colab": {
          "base_uri": "https://localhost:8080/"
        },
        "id": "Svflb2R5y-9k",
        "outputId": "85498f9f-542d-4e91-e3a7-68f656ca3c54"
      },
      "source": [
        "# Librerias\n",
        "import requests\n",
        "from bs4 import BeautifulSoup, NavigableString, Tag\n",
        "import pandas as pd\n",
        "\n",
        "nombres = []\n",
        "precios = []\n",
        "\n",
        "\n",
        "# Definición de URL y request de la información de la página\n",
        "url = 'https://listado.mercadolibre.com.py/huawei#D[A:huawei]'\n",
        "r = requests.get(url)\n",
        "soup = BeautifulSoup(r.text, 'html.parser')\n",
        "lista = soup.find('ol', class_=  'ui-search-layout ui-search-layout--stack')\n",
        "\n",
        "\n",
        "# Recoleccion de Nombre y Precio\n",
        "for li in lista.find_all('li') : \n",
        "  nombre = li.find('a', class_ = 'ui-search-item__group__element ui-search-link').text\n",
        "  nombres.append(nombre)\n",
        "\n",
        "  precio = li.find('span', class_ = 'price-tag-amount').text\n",
        "  precios.append(precio)\n",
        "  \n",
        "  \n",
        "\n",
        "  \n",
        "\n",
        "\n",
        "df = pd.DataFrame(list(zip(nombres, precios)))\n",
        "df.columns = ['Nombre','Precio']\n",
        "\n",
        "  \n",
        "df.to_csv('Listado_de_productos.csv')\n",
        "\n",
        "print(df)\n",
        "\n"
      ],
      "execution_count": 59,
      "outputs": [
        {
          "output_type": "stream",
          "text": [
            "                                               Nombre       Precio\n",
            "0                                Huawei P40 Pro 128gb       U$S300\n",
            "1                                Huawei P30 Pro 128gb       U$S150\n",
            "2                            Huawei Mate 20 Pro 128gb       U$S200\n",
            "3                            Huawei Mate 30 Pro 128gb       U$S300\n",
            "4                                  Huawei Mate 20 Pro       U$S200\n",
            "5      Display Huawei Y7 2018 Lcd Touch Screen Nuevos     ₲157.000\n",
            "6                                Huawei P40 Pro 128gb       U$S300\n",
            "7                                Huawei P40 Pro 128gb       U$S300\n",
            "8                                  Huawei Mate 30 Pro       U$S300\n",
            "9                            Huawei Mate 20 Pro 128gb       U$S200\n",
            "10  Huawei P30 Pro - 128gb - Azul Medianoche (desb...       U$S350\n",
            "11                100% Nuevo Huawei Mate 20 Pro 128gb       U$S220\n",
            "12                                 Huawei Mate 20 Pro       U$S200\n",
            "13                               Huawei P30 Pro 128gb       U$S200\n",
            "14                               Huawei P30 Pro 128gb       U$S200\n",
            "15  Huawei P40 Pro 256 Gb + 8gb Ram (vog-l29) 50mp...       U$S300\n",
            "16    Vendo Router Wifi Portatil Huawei Para Personal     ₲650.000\n",
            "17               100% Auténtico Huawei Y9 Prime 128gb       U$S250\n",
            "18  Huawei P40 Pro 256 Gb + 8gb Ram (vog-l29) 50mp...       U$S300\n",
            "19                      Celular Hawuei P20 Lite 32 Gb         ₲700\n",
            "20                      Celular Huawei Y9s 128gb 6ram       U$S250\n",
            "21                                Huawei P40 Pro Plus       U$S800\n",
            "22          Huawei Mate 40 Pro (desbloqueado) Sellado       U$S440\n",
            "23    Original Huawei P20 Pro 128gb ,6gb Ram En Stock       U$S280\n",
            "24          Huawei Matebook Pro X 13.9 Laptop 2019 I7  ₲10.300.500\n",
            "25                                     Huawei P40 Pro       U$S500\n",
            "26  Huawei Mate 30 Pro 5g/lte 8gb Ram 256gb Kirin ...       U$S600\n",
            "27                               Huawei Honor 30 Pro        U$S500\n",
            "28                Reloj Inteligente Amazfit Gts A1914     ₲530.000\n",
            "29  Huawei P40 Pro 5g - 256gb - Silver (desbloquea...       U$S350\n",
            "30            Nuevo Huawei P30 Pro 256gb 8gb Unlcoked       U$S480\n",
            "31  Huawei P40 Pro 5g/lte 8gb Ram 256gb Kirin 990 ...       U$S400\n",
            "32                               Huawei P30 Pro 128gb       U$S200\n",
            "33  Porsche Design Huawei Mate 10 Pro Brand New In...       U$S200\n",
            "34                          New Huawei Mate 30 Pro 5g       U$S600\n",
            "35                                 Huawei Mate 40 Pro       U$S700\n",
            "36  Huawei Mate 40 Pro 5g 256gb/8gb Ram Internatio...       U$S800\n",
            "37  Huawei P30 Pro/ P40 Lite/ P40 Pro/ Mate 40 Y 3...       U$S230\n",
            "38  Nuevo Huawei P20 Pro Clt-l09 - 128gb - Twiligh...       U$S250\n",
            "39                100% Nuevo Huawei Mate 20 Pro 128gb       U$S230\n",
            "40  Huawei Mate 30 Pro Original De 256 Gb Sellado ...       U$S520\n",
            "41          New Huawei P40 Pro Unlocked Silver Frost        U$S600\n",
            "42              Huawei P40 Pro Plus 512gb + 12gb Ram        U$S700\n",
            "43  Huawei P30 Pro/ P40 Lite/ P40 Pro/ Mate 40 Y 3...       U$S230\n",
            "44  Huawei P30 Pro/ P40 Lite/ P40 Pro/ Mate 40 Y 3...       U$S230\n",
            "45       Nuevo  Huawei P30 Pro 256gb Factory Unlocked       U$S430\n",
            "46            Original Mate 20 Pro 128gb Desbloqueado       U$S350\n",
            "47  Huawei P30 Pro - 128gb - Azul Medianoche (desb...       U$S350\n",
            "48  Nuevo Huawei Honor View 10 V10 Red 128gb Dual ...       U$S200\n",
            "49   Huawei P40 5g Dual-sim Silver Factory Unlocked         U$S500\n"
          ],
          "name": "stdout"
        }
      ]
    },
    {
      "cell_type": "markdown",
      "metadata": {
        "id": "qKG2JaYnb1fO"
      },
      "source": [
        "# Sección nueva"
      ]
    },
    {
      "cell_type": "markdown",
      "metadata": {
        "id": "LuF4x9mKb2R6"
      },
      "source": [
        "# Sección nueva"
      ]
    }
  ]
}